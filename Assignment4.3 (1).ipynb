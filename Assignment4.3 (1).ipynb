{
 "cells": [
  {
   "cell_type": "markdown",
   "id": "b02392ca-e570-474e-839d-354c522dc1c7",
   "metadata": {},
   "source": [
    "Q1. What is Abstraction in OOps? Explain with an example."
   ]
  },
  {
   "cell_type": "markdown",
   "id": "5f1f1408-577e-4dc7-b4a4-5895b3e06a24",
   "metadata": {},
   "source": [
    "ANS.Objects are the building blocks of Object-Oriented Programming. An object contains some properties and methods. We can hide them from the outer world through access modifiers. We can provide access only for required functions and properties to the other programs. This is the general procedure to implement abstraction in OOPS."
   ]
  },
  {
   "cell_type": "code",
   "execution_count": 13,
   "id": "f5477a9d-85c0-473b-ab0d-158b657edba7",
   "metadata": {},
   "outputs": [],
   "source": [
    "import abc\n",
    "class pwskills:\n",
    "    \n",
    "    \n",
    "    @abc.abstractmethod\n",
    "    def students_detials(self):\n",
    "        pass\n",
    "    \n",
    "    @abc.abstractmethod\n",
    "    def student_assignemnt(self):\n",
    "        pass\n",
    "    \n",
    "   \n",
    "    \n",
    "    \n"
   ]
  },
  {
   "cell_type": "code",
   "execution_count": 14,
   "id": "94e3146a-ca0e-4959-8bdc-0304c46238f1",
   "metadata": {},
   "outputs": [],
   "source": [
    "class student(pwskills):\n",
    "    \n",
    "    def student_details(self):\n",
    "        return \"this is the student details\"\n",
    "    def student_assignemnt(self):\n",
    "        return \"this is the assignment\"\n",
    "        \n",
    "        \n",
    "        \n",
    "        \n",
    "        "
   ]
  },
  {
   "cell_type": "code",
   "execution_count": 15,
   "id": "7c78345e-26e8-4898-931f-ed6ce735154c",
   "metadata": {},
   "outputs": [],
   "source": [
    "pw=student()"
   ]
  },
  {
   "cell_type": "code",
   "execution_count": 17,
   "id": "6609c7d2-6021-4368-a714-44dfe7096789",
   "metadata": {},
   "outputs": [
    {
     "data": {
      "text/plain": [
       "'this is the student details'"
      ]
     },
     "execution_count": 17,
     "metadata": {},
     "output_type": "execute_result"
    }
   ],
   "source": [
    "pw.student_details()"
   ]
  },
  {
   "cell_type": "code",
   "execution_count": 18,
   "id": "7a90c351-5764-4f4a-aa6d-efdc5a550446",
   "metadata": {},
   "outputs": [
    {
     "data": {
      "text/plain": [
       "'this is the assignment'"
      ]
     },
     "execution_count": 18,
     "metadata": {},
     "output_type": "execute_result"
    }
   ],
   "source": [
    "pw.student_assignemnt()"
   ]
  },
  {
   "cell_type": "markdown",
   "id": "806b0f35-aa81-424a-bfb7-717fce904b74",
   "metadata": {},
   "source": [
    "Q2. Differentiate between Abstraction and Encapsulation. Explain with an example."
   ]
  },
  {
   "cell_type": "markdown",
   "id": "b8441582-7b9e-409d-9fea-734288b43c3f",
   "metadata": {},
   "source": [
    "ANS.Abstraction is hiding the details and implementation of the code. Encapsulation is hiding the data and controlling the visibility of the code."
   ]
  },
  {
   "cell_type": "code",
   "execution_count": 20,
   "id": "c68007c7-187a-4d6e-a7f3-faaa2206fa3b",
   "metadata": {},
   "outputs": [],
   "source": [
    "import abc\n",
    "class pwskills:\n",
    "    \n",
    "    \n",
    "    @abc.abstractmethod\n",
    "    def students_detials(self):\n",
    "        pass\n",
    "    \n",
    "    @abc.abstractmethod\n",
    "    def student_assignemnt(self):\n",
    "        pass\n",
    "    \n",
    "   "
   ]
  },
  {
   "cell_type": "code",
   "execution_count": 21,
   "id": "e6348c69-8728-4846-b1c6-5614515f0497",
   "metadata": {},
   "outputs": [],
   "source": [
    "class student(pwskills):\n",
    "    \n",
    "    def student_details(self):\n",
    "        return \"this is the student details\"\n",
    "    def student_assignemnt(self):\n",
    "        return \"this is the assignment\"\n",
    "        "
   ]
  },
  {
   "cell_type": "code",
   "execution_count": 22,
   "id": "76939dbc-73d8-4484-8a03-d19d7ad88e78",
   "metadata": {},
   "outputs": [],
   "source": [
    "pw=student()"
   ]
  },
  {
   "cell_type": "code",
   "execution_count": 23,
   "id": "ad8580fc-db5d-4d6a-8fd1-2777fff05ebf",
   "metadata": {},
   "outputs": [
    {
     "data": {
      "text/plain": [
       "'this is the student details'"
      ]
     },
     "execution_count": 23,
     "metadata": {},
     "output_type": "execute_result"
    }
   ],
   "source": [
    "pw.student_details()"
   ]
  },
  {
   "cell_type": "code",
   "execution_count": 24,
   "id": "6b06619b-1d41-4365-968d-80b2b176a38e",
   "metadata": {},
   "outputs": [
    {
     "data": {
      "text/plain": [
       "'this is the assignment'"
      ]
     },
     "execution_count": 24,
     "metadata": {},
     "output_type": "execute_result"
    }
   ],
   "source": [
    "pw.student_assignemnt()"
   ]
  },
  {
   "cell_type": "code",
   "execution_count": 25,
   "id": "e311f874-7c16-43f6-a1e7-e0778289ff59",
   "metadata": {},
   "outputs": [],
   "source": [
    "class test : \n",
    "    \n",
    "    \n",
    "    def __init__(self , a, b ):\n",
    "        self.a = a \n",
    "        self.b = b"
   ]
  },
  {
   "cell_type": "code",
   "execution_count": 27,
   "id": "3ee84fe3-d61f-45b9-ba49-0050207f499f",
   "metadata": {},
   "outputs": [],
   "source": [
    "t=test(3,4)"
   ]
  },
  {
   "cell_type": "code",
   "execution_count": 28,
   "id": "da4cb061-1cdd-4be0-b81f-4442e1c37950",
   "metadata": {},
   "outputs": [
    {
     "data": {
      "text/plain": [
       "3"
      ]
     },
     "execution_count": 28,
     "metadata": {},
     "output_type": "execute_result"
    }
   ],
   "source": [
    "t.a"
   ]
  },
  {
   "cell_type": "code",
   "execution_count": 29,
   "id": "d038ce9a-b436-4b66-9caa-1376c062271a",
   "metadata": {},
   "outputs": [
    {
     "data": {
      "text/plain": [
       "4"
      ]
     },
     "execution_count": 29,
     "metadata": {},
     "output_type": "execute_result"
    }
   ],
   "source": [
    "t.b"
   ]
  },
  {
   "cell_type": "markdown",
   "id": "168925e8-dc41-4f2a-bd7b-097e24cd3b7f",
   "metadata": {},
   "source": [
    "Q3. What is abc module in python? Why is it used?"
   ]
  },
  {
   "cell_type": "markdown",
   "id": "c3709169-e777-47e1-922b-3f5eb8b2a609",
   "metadata": {},
   "source": [
    "ANS.ABC in Python\n",
    "Python is not a fully object-oriented programming language but it supports the features like abstract classes and abstraction. We cannot create abstract classes directly in Python, so Python provides a module called abc that provides the infrastructure for defining the base of Abstract Base Classes(ABC)."
   ]
  },
  {
   "cell_type": "markdown",
   "id": "6b1bd4d9-9978-4f7e-ba37-bf0130223c41",
   "metadata": {},
   "source": [
    "Q4. How can we achieve data abstraction?"
   ]
  },
  {
   "cell_type": "markdown",
   "id": "150a2302-e417-4ce5-a1fe-97a1d2a9b73a",
   "metadata": {},
   "source": [
    "ANS.We can achieve data abstraction through Abstract classes and interfaces. Through abstract classes, you can achieve partial or complete abstraction as abstract classes contain methods that have an implementation which can result in partial abstraction"
   ]
  },
  {
   "cell_type": "markdown",
   "id": "9f7c9605-2ee6-446f-8340-c62149591cec",
   "metadata": {},
   "source": [
    "Q5. Can we create an instance of an abstract class? Explain your answer."
   ]
  },
  {
   "cell_type": "markdown",
   "id": "0a1a4c82-a8f6-4528-9adf-d9be2f705cd4",
   "metadata": {},
   "source": [
    "ANS.Abstract classes cannot be instantiated, but they can be subclassed. When an abstract class is subclassed, the subclass usually provides implementations for all of the abstract methods in its parent class. However, if it does not, then the subclass must also be declared abstract ."
   ]
  },
  {
   "cell_type": "code",
   "execution_count": null,
   "id": "a755536a-38bd-4c31-9cd8-4c338a36863d",
   "metadata": {},
   "outputs": [],
   "source": []
  }
 ],
 "metadata": {
  "kernelspec": {
   "display_name": "Python 3 (ipykernel)",
   "language": "python",
   "name": "python3"
  },
  "language_info": {
   "codemirror_mode": {
    "name": "ipython",
    "version": 3
   },
   "file_extension": ".py",
   "mimetype": "text/x-python",
   "name": "python",
   "nbconvert_exporter": "python",
   "pygments_lexer": "ipython3",
   "version": "3.10.8"
  }
 },
 "nbformat": 4,
 "nbformat_minor": 5
}
